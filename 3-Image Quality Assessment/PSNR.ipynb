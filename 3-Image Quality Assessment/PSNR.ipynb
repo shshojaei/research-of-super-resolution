{
  "nbformat": 4,
  "nbformat_minor": 0,
  "metadata": {
    "colab": {
      "provenance": [],
      "authorship_tag": "ABX9TyNq4TACWVhNtb5jml1pBp6u"
    },
    "kernelspec": {
      "name": "python3",
      "display_name": "Python 3"
    },
    "language_info": {
      "name": "python"
    }
  },
  "cells": [
    {
      "cell_type": "code",
      "execution_count": null,
      "metadata": {
        "id": "PtDahsKg0rnl"
      },
      "outputs": [],
      "source": [
        "#https://www.tensorflow.org/api_docs/python/tf/image/psnr\n",
        "\n",
        "def PSNR1(y_pred, y_true):\n",
        "  #Compute the peak signal-to-noise ratio, measures quality of image.\n",
        "  # Max value of pixel is 255\n",
        "  psnr_value = tf.image.psnr(y_true, y_pred, max_val=255)\n",
        "  return psnr_value"
      ]
    },
    {
      "cell_type": "code",
      "source": [
        "#tensorflow psnr github: https://github.com/tensorflow/tensorflow/blob/v2.9.1/tensorflow/python/ops/image_ops_impl.py#L4129-L4181\n",
        "\n",
        "import keras.backend as K\n",
        "\n",
        "def PSNR2(y_pred, y_true):\n",
        "\n",
        "  y_true = K.flatten(y_true)\n",
        "  y_pred = K.flatten(y_pred)\n",
        "\n",
        "  #convert Tensorflow tensor to numpy\n",
        "  y_true = K.cast( y_true, 'float32')\n",
        "  y_pred = K.cast( y_pred, 'float32')\n",
        "\n",
        "  mse = K.mean(K.square(y_pred - y_true), axis=-1)\n",
        "\n",
        "  max_val = 255.0\n",
        "\n",
        "  psnr_val = (20.0 * K.log(max_val) / K.log(10.0)) - ((10.0 / K.log(10.0)) * K.log(mse)) \n",
        "\n",
        "  return psnr_val"
      ],
      "metadata": {
        "id": "InZ3aVuZ0wkc"
      },
      "execution_count": null,
      "outputs": []
    },
    {
      "cell_type": "code",
      "source": [
        "import keras.backend as K\n",
        "\n",
        "def PSNR3(y_pred, y_true):\n",
        "  y_true = K.flatten(y_true)\n",
        "  y_pred = K.flatten(y_pred)\n",
        "\n",
        "  #convert Tensorflow tensor to numpy\n",
        "  y_true = K.cast( y_true, 'float32')\n",
        "  y_pred = K.cast( y_pred, 'float32')\n",
        "\n",
        "  mse = K.mean(K.square(y_pred - y_true), axis=-1)\n",
        "  max_pixel = 255.0\n",
        "\n",
        "  psnr_value = (10.0 * K.log(max_pixel **2 / mse)) / 2.303\n",
        "  \n",
        "  return psnr_value\n",
        "\n",
        "#print(K.log(2.303))"
      ],
      "metadata": {
        "id": "UChLhomN00Xk"
      },
      "execution_count": null,
      "outputs": []
    },
    {
      "cell_type": "code",
      "source": [
        "import keras.backend as K\n",
        "\n",
        "def PSNR4(y_pred, y_true):\n",
        "  y_true = K.flatten(y_true)\n",
        "  y_pred = K.flatten(y_pred)\n",
        "\n",
        "  #convert Tensorflow tensor to numpy\n",
        "  y_true = K.cast( y_true, 'float32')\n",
        "  y_pred = K.cast( y_pred, 'float32')\n",
        "\n",
        "  #https://stackoverflow.com/questions/55844618/how-to-calculate-psnr-metric-in-keras\n",
        "  #divide 2.303 Because natural log is bigger than base-10 log.\n",
        "  #sometimes psnr can be inf, maybe y_pred == y_true. if you don't want to see it, just square (y_pred - y_true + 1e-8)\n",
        "\n",
        "  mse = K.mean(K.square(y_pred - y_true + 1e-8), axis=-1)\n",
        "  max_pixel = 255.0\n",
        "\n",
        "  psnr_value = (10.0 * K.log(max_pixel **2 / mse)) / 2.303\n",
        "  \n",
        "  return psnr_value"
      ],
      "metadata": {
        "id": "PpeIkg0R03tD"
      },
      "execution_count": null,
      "outputs": []
    }
  ]
}