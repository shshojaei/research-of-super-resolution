{
  "nbformat": 4,
  "nbformat_minor": 0,
  "metadata": {
    "colab": {
      "provenance": [],
      "authorship_tag": "ABX9TyPT0uqEgEmw7OG3usfPNLXQ"
    },
    "kernelspec": {
      "name": "python3",
      "display_name": "Python 3"
    },
    "language_info": {
      "name": "python"
    }
  },
  "cells": [
    {
      "cell_type": "markdown",
      "source": [
        "#my ssim"
      ],
      "metadata": {
        "id": "rtuInWsS1um7"
      }
    },
    {
      "cell_type": "code",
      "source": [
        "!pip install tensorflow-addons\n",
        "\n",
        "import keras.backend as K\n",
        "import tensorflow_addons as tfa\n",
        "import math\n",
        "\n",
        "def my_ssim(y_true, y_pred):\n",
        "\n",
        "  #source: https://www.tensorflow.org/addons/api_docs/python/tfa/image/gaussian_filter2d\n",
        "  #Means obtained by Gaussian filtering of inputs => source: https://www.programcreek.com/python/?CodeExample=compute+ssim\n",
        "  #Sigma is a standard deviation of the gaussian\n",
        "\n",
        "  y_true_mean = tfa.image.gaussian_filter2d(y_true, filter_shape=(11,11), sigma=1.5) #input and output is a Tensor\n",
        "  y_pred_mean = tfa.image.gaussian_filter2d(y_pred, filter_shape=(11,11), sigma=1.5)\n",
        "\n",
        "  #https://docs.w3cub.com/tensorflow~2.3/image/psnr\n",
        "  #https://github.com/keras-team/keras/issues/1917\n",
        "  #convert Tensorflow tensor to numpy\n",
        "  y_true_mean = K.cast( y_true_mean, 'float32')/255\n",
        "  y_pred_mean = K.cast( y_pred_mean, 'float32')/255\n",
        "\n",
        "  y_true = K.cast( y_true, 'float32')/255\n",
        "  y_pred = K.cast( y_pred, 'float32')/255\n",
        "\n",
        "  #source: https://github.com/mubeta06/python/blob/master/signal_processing/sp/ssim.py\n",
        "  # k1 & c1 depend on L (width of color map)\n",
        "  l = 255\n",
        "  k_1 = 0.01\n",
        "  k_2 = 0.03\n",
        "  c_1 = (k_1 * l)**2\n",
        "  c_2 = (k_2 * l)**2\n",
        "\n",
        "  # Squares of means\n",
        "  mu_1_sq = y_true_mean**2\n",
        "  mu_2_sq = y_pred_mean**2\n",
        "  mu_1_mu_2 = y_true_mean * y_pred_mean\n",
        "\n",
        "  sigma1_sq = (y_true - y_true_mean)**2\n",
        "  sigma1_sq_mean = (tfa.image.mean_filter2d((y_true - y_true_mean)**2))**1/2\n",
        "  sigma2_sq = (y_pred - y_pred_mean)**2 \n",
        "  sigma2_sq_mean = (tfa.image.mean_filter2d((y_pred - y_pred_mean)**2))**1/2\n",
        "  sigma12 = tfa.image.mean_filter2d((y_true - y_true_mean) * (y_pred - y_pred_mean))\n",
        "\n",
        "  ssim_map = ((2 * mu_1_mu_2 + c_1)*(2 * sigma12 + c_2)) / ((mu_1_sq + mu_2_sq + c_1)*(sigma1_sq + sigma2_sq + c_2))\n",
        " \n",
        "  # return MSSIM\n",
        "  index = K.mean(ssim_map)\n",
        "\n",
        "  return index"
      ],
      "metadata": {
        "id": "eKeQW3Ry1geI"
      },
      "execution_count": null,
      "outputs": []
    },
    {
      "cell_type": "markdown",
      "source": [
        "#skimage ssim"
      ],
      "metadata": {
        "id": "V8jSE41N1ytO"
      }
    },
    {
      "cell_type": "code",
      "source": [
        "from skimage.metrics import structural_similarity\n",
        "\n",
        "def sk_ssim(y_true , y_pred):\n",
        "  return structural_similarity(y_true , y_pred, guassian_weights=True , multichannel=True)"
      ],
      "metadata": {
        "id": "9Yf958Wk1jUU"
      },
      "execution_count": null,
      "outputs": []
    },
    {
      "cell_type": "markdown",
      "source": [
        "#tensorflow ssim"
      ],
      "metadata": {
        "id": "RqjZ9W9m12IR"
      }
    },
    {
      "cell_type": "code",
      "source": [
        "from tensorflow.image import ssim\n",
        "\n",
        "def tf_ssim(y_true , y_pred):\n",
        "  return ssim(y_true , y_pred ,  max_val=255)"
      ],
      "metadata": {
        "id": "7U7hOtdn1mQb"
      },
      "execution_count": null,
      "outputs": []
    },
    {
      "cell_type": "markdown",
      "source": [
        "#downsample ssim"
      ],
      "metadata": {
        "id": "lTJmgecu14gA"
      }
    },
    {
      "cell_type": "code",
      "source": [
        "!pip install git+https://github.com/olivesgatech/dippykit.git\n",
        "\n",
        "from dippykit.metrics import SSIM as dsample_ssim\n",
        "\n",
        "def downsample_ssim(y_true , y_pred):\n",
        "  return dsample_ssim(y_true, y_pred, multichannel=True, auto_downsample = True, data_range=255.0)[0]"
      ],
      "metadata": {
        "id": "wfJYSDQN1ooL"
      },
      "execution_count": null,
      "outputs": []
    }
  ]
}