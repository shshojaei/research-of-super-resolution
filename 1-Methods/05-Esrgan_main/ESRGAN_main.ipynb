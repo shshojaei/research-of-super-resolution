{
  "cells": [
    {
      "cell_type": "markdown",
      "metadata": {
        "id": "6-BUKDGpvwU6"
      },
      "source": [
        "reference: https://github.com/XPixelGroup/BasicSR"
      ]
    },
    {
      "cell_type": "code",
      "execution_count": null,
      "metadata": {
        "colab": {
          "base_uri": "https://localhost:8080/"
        },
        "id": "ptIIkVE1vpl5",
        "outputId": "d008764f-2dff-43e0-bae1-2e2527e9485a"
      },
      "outputs": [
        {
          "output_type": "stream",
          "name": "stdout",
          "text": [
            "Mounted at /content/drive\n"
          ]
        }
      ],
      "source": [
        "from google.colab import drive\n",
        "drive.mount('/content/drive')"
      ]
    },
    {
      "cell_type": "code",
      "execution_count": null,
      "metadata": {
        "colab": {
          "base_uri": "https://localhost:8080/"
        },
        "id": "5OlidvoM1eAO",
        "outputId": "53f0ad4b-40f0-49b5-b7b4-ed1495c510fe"
      },
      "outputs": [
        {
          "name": "stdout",
          "output_type": "stream",
          "text": [
            "pip 23.1.2 from /usr/local/lib/python3.10/dist-packages/pip (python 3.10)\n",
            "Python 3.10.6\n",
            "\u001b[31mERROR: Could not find a version that satisfies the requirement python==3.10.6 (from versions: none)\u001b[0m\u001b[31m\n",
            "\u001b[0m\u001b[31mERROR: No matching distribution found for python==3.10.6\u001b[0m\u001b[31m\n",
            "\u001b[0mTorch Version:  2.0.1+cu118\n",
            "CUDA Version:  11.8\n",
            "CUDNN Version:  8700\n",
            "CUDA Available: True\n"
          ]
        }
      ],
      "source": [
        "!pip --version\n",
        "!python --version\n",
        "!pip install python==3.10.6\n",
        "# Check torch and cuda versions\n",
        "import torch\n",
        "print('Torch Version: ', torch.__version__)\n",
        "print('CUDA Version: ', torch.version.cuda)\n",
        "print('CUDNN Version: ', torch.backends.cudnn.version())\n",
        "print('CUDA Available:', torch.cuda.is_available())"
      ]
    },
    {
      "cell_type": "code",
      "execution_count": null,
      "metadata": {
        "colab": {
          "base_uri": "https://localhost:8080/"
        },
        "id": "E1hp00TKv3wc",
        "outputId": "a79262fb-7d8c-47c6-97c9-41910c4f12ce"
      },
      "outputs": [
        {
          "output_type": "stream",
          "name": "stdout",
          "text": [
            "/content/drive/MyDrive/ColabNotebooks/ESRGAN/BasicSR\n"
          ]
        }
      ],
      "source": [
        "%cd drive/MyDrive/ColabNotebooks/ESRGAN/BasicSR"
      ]
    },
    {
      "cell_type": "code",
      "execution_count": null,
      "metadata": {
        "colab": {
          "base_uri": "https://localhost:8080/"
        },
        "id": "LxCqb-qlxj4F",
        "outputId": "fad992ab-ee5a-468b-fc3c-4014351d6b29"
      },
      "outputs": [
        {
          "name": "stdout",
          "output_type": "stream",
          "text": [
            "assets\t      docs\t    LICENSE.txt   requirements.txt  test_scripts\n",
            "basicsr       ESRGAN.ipynb  MANIFEST.in   scripts\t    VERSION\n",
            "CITATION.cff  experiments   options\t  setup.cfg\n",
            "colab\t      inference     README_CN.md  setup.py\n",
            "datasets      LICENSE\t    README.md\t  tests\n"
          ]
        }
      ],
      "source": [
        "!ls"
      ]
    },
    {
      "cell_type": "code",
      "execution_count": null,
      "metadata": {
        "colab": {
          "base_uri": "https://localhost:8080/"
        },
        "id": "QN2T1QLzwc7F",
        "outputId": "7bc7bb6c-e9d9-4eef-95c8-3e3de45e5ccc"
      },
      "outputs": [
        {
          "name": "stdout",
          "output_type": "stream",
          "text": [
            "Cloning into 'BasicSR'...\n",
            "remote: Enumerating objects: 5919, done.\u001b[K\n",
            "remote: Counting objects: 100% (17/17), done.\u001b[K\n",
            "remote: Compressing objects: 100% (14/14), done.\u001b[K\n",
            "remote: Total 5919 (delta 4), reused 8 (delta 2), pack-reused 5902\u001b[K\n",
            "Receiving objects: 100% (5919/5919), 4.16 MiB | 10.24 MiB/s, done.\n",
            "Resolving deltas: 100% (3733/3733), done.\n",
            "Updating files: 100% (303/303), done.\n"
          ]
        }
      ],
      "source": [
        "!git clone https://github.com/XPixelGroup/BasicSR.git"
      ]
    },
    {
      "cell_type": "code",
      "execution_count": null,
      "metadata": {
        "id": "U3n2xNUNiB8K"
      },
      "outputs": [],
      "source": [
        "!pip install -r requirements.txt"
      ]
    },
    {
      "cell_type": "code",
      "execution_count": null,
      "metadata": {
        "colab": {
          "base_uri": "https://localhost:8080/"
        },
        "id": "SZhuOQFnmm5y",
        "outputId": "2705dd9c-27db-4b2f-d3af-aa8ae8b5878a"
      },
      "outputs": [
        {
          "output_type": "stream",
          "name": "stdout",
          "text": [
            "/env/python\n",
            "/env/python:/content/drive/MyDrive/ColabNotebooks/ESRGAN/BasicSR\n"
          ]
        }
      ],
      "source": [
        "!echo $PYTHONPATH\n",
        "\n",
        "import os\n",
        "os.environ['PYTHONPATH'] += \":/content/drive/MyDrive/ColabNotebooks/ESRGAN/BasicSR\"\n",
        "\n",
        "!echo $PYTHONPATH"
      ]
    },
    {
      "cell_type": "code",
      "execution_count": null,
      "metadata": {
        "id": "4YvKyaIgzNTM"
      },
      "outputs": [],
      "source": [
        "!pip install basicsr"
      ]
    },
    {
      "cell_type": "markdown",
      "metadata": {
        "id": "hQiCgvIVwNi_"
      },
      "source": [
        "#Dataset preparation"
      ]
    },
    {
      "cell_type": "markdown",
      "metadata": {
        "id": "G8eWeFPfyxLO"
      },
      "source": [
        "Convert dataset images to 544 * 544 sub-images"
      ]
    },
    {
      "cell_type": "code",
      "execution_count": null,
      "metadata": {
        "colab": {
          "base_uri": "https://localhost:8080/"
        },
        "id": "o4QsyshNwZIU",
        "outputId": "2ea30f93-6c17-4337-9dec-141bf9bf564c"
      },
      "outputs": [
        {
          "output_type": "stream",
          "name": "stdout",
          "text": [
            "/usr/local/lib/python3.10/dist-packages/torchvision/transforms/functional_tensor.py:5: UserWarning: The torchvision.transforms.functional_tensor module is deprecated in 0.15 and will be **removed in 0.17**. Please don't rely on it. You probably just need to use APIs in torchvision.transforms.functional or in torchvision.transforms.v2.functional.\n",
            "  warnings.warn(\n",
            "mkdir datasets/DIV2K/DIV2K_train_HR_sub ...\n",
            "Extract: 100% 800/800 [10:27<00:00,  1.28image/s]\n",
            "All processes done.\n",
            "extract subimages for HR images done\n",
            "mkdir datasets/DIV2K/DIV2K_train_LR_bicubic/X4_sub ...\n",
            "Extract: 100% 800/800 [04:53<00:00,  2.72image/s]\n",
            "All processes done.\n",
            "extract subimages for LRx4 images done\n"
          ]
        }
      ],
      "source": [
        "!python scripts/data_preparation/extract_subimages.py"
      ]
    },
    {
      "cell_type": "code",
      "execution_count": null,
      "metadata": {
        "colab": {
          "base_uri": "https://localhost:8080/"
        },
        "id": "hRkVQH1GTdcY",
        "outputId": "7ccbb5cd-1503-4c74-d24e-c8b005e16be5"
      },
      "outputs": [
        {
          "output_type": "stream",
          "name": "stdout",
          "text": [
            "100\n",
            "100\n"
          ]
        }
      ],
      "source": [
        "from glob import glob\n",
        "\n",
        "hr_files = sorted(glob('datasets/Urban100/*.png'))\n",
        "print(len(hr_files))\n",
        "\n",
        "lr_files = sorted(glob('datasets/Urban100/LRbicx4/*.png'))\n",
        "print(len(lr_files))"
      ]
    },
    {
      "cell_type": "markdown",
      "metadata": {
        "id": "dunXwHfiWEpL"
      },
      "source": [
        "#Download official pre-trained models"
      ]
    },
    {
      "cell_type": "code",
      "execution_count": null,
      "metadata": {
        "colab": {
          "base_uri": "https://localhost:8080/"
        },
        "id": "RYyqVLa8WFfb",
        "outputId": "5603865f-f7ee-40b5-de0f-f8703db81ec0"
      },
      "outputs": [
        {
          "name": "stdout",
          "output_type": "stream",
          "text": [
            "/usr/local/lib/python3.10/dist-packages/torchvision/transforms/functional_tensor.py:5: UserWarning: The torchvision.transforms.functional_tensor module is deprecated in 0.15 and will be **removed in 0.17**. Please don't rely on it. You probably just need to use APIs in torchvision.transforms.functional or in torchvision.transforms.v2.functional.\n",
            "  warnings.warn(\n",
            "ESRGAN_SRx4_DF2KOST_official-ff704c30.pth already exist. Do you want to cover it? Y/N\n",
            "\n",
            "^C\n"
          ]
        }
      ],
      "source": [
        "!python3 scripts/download_pretrained_models.py ESRGAN"
      ]
    },
    {
      "cell_type": "markdown",
      "metadata": {
        "id": "cPGDKYE-fojA"
      },
      "source": [
        "#train"
      ]
    },
    {
      "cell_type": "code",
      "execution_count": null,
      "metadata": {
        "id": "Nc6hnzuzXqY5"
      },
      "outputs": [],
      "source": [
        "!python3 basicsr/train.py -opt options/train/ESRGAN/train_ESRGAN_x4.yml"
      ]
    },
    {
      "cell_type": "markdown",
      "metadata": {
        "id": "jQUJKSRV2TbL"
      },
      "source": [
        "#test"
      ]
    },
    {
      "cell_type": "code",
      "execution_count": null,
      "metadata": {
        "id": "NiAHP8Mq2UyI"
      },
      "outputs": [],
      "source": [
        "!python3 basicsr/test.py -opt options/test/ESRGAN/test_ESRGAN_x4.yml"
      ]
    }
  ],
  "metadata": {
    "accelerator": "GPU",
    "colab": {
      "machine_shape": "hm",
      "toc_visible": true,
      "provenance": [],
      "gpuType": "V100",
      "authorship_tag": "ABX9TyPc3ABZ21kAn4U8yCVptvwD"
    },
    "kernelspec": {
      "display_name": "Python 3",
      "name": "python3"
    },
    "language_info": {
      "name": "python"
    }
  },
  "nbformat": 4,
  "nbformat_minor": 0
}